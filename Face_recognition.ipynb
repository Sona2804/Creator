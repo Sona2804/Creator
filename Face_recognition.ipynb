{
  "nbformat": 4,
  "nbformat_minor": 0,
  "metadata": {
    "colab": {
      "provenance": [],
      "authorship_tag": "ABX9TyNbdfFGYZS2e6SETLFpsTmo",
      "include_colab_link": true
    },
    "kernelspec": {
      "name": "python3",
      "display_name": "Python 3"
    },
    "language_info": {
      "name": "python"
    }
  },
  "cells": [
    {
      "cell_type": "markdown",
      "metadata": {
        "id": "view-in-github",
        "colab_type": "text"
      },
      "source": [
        "<a href=\"https://colab.research.google.com/github/Sona2804/Creator/blob/main/Face_recognition.ipynb\" target=\"_parent\"><img src=\"https://colab.research.google.com/assets/colab-badge.svg\" alt=\"Open In Colab\"/></a>"
      ]
    },
    {
      "cell_type": "code",
      "execution_count": 1,
      "metadata": {
        "colab": {
          "base_uri": "https://localhost:8080/"
        },
        "id": "UcGzuJG-P-A9",
        "outputId": "c2194dc9-bcce-46cc-d604-f4c201cd3596"
      },
      "outputs": [
        {
          "output_type": "stream",
          "name": "stdout",
          "text": [
            "Collecting face_recognition\n",
            "  Downloading face_recognition-1.3.0-py2.py3-none-any.whl.metadata (21 kB)\n",
            "Requirement already satisfied: opencv-python-headless in /usr/local/lib/python3.11/dist-packages (4.11.0.86)\n",
            "Collecting face-recognition-models>=0.3.0 (from face_recognition)\n",
            "  Downloading face_recognition_models-0.3.0.tar.gz (100.1 MB)\n",
            "\u001b[2K     \u001b[90m━━━━━━━━━━━━━━━━━━━━━━━━━━━━━━━━━━━━━━━━\u001b[0m \u001b[32m100.1/100.1 MB\u001b[0m \u001b[31m9.8 MB/s\u001b[0m eta \u001b[36m0:00:00\u001b[0m\n",
            "\u001b[?25h  Preparing metadata (setup.py) ... \u001b[?25l\u001b[?25hdone\n",
            "Requirement already satisfied: Click>=6.0 in /usr/local/lib/python3.11/dist-packages (from face_recognition) (8.1.8)\n",
            "Requirement already satisfied: dlib>=19.7 in /usr/local/lib/python3.11/dist-packages (from face_recognition) (19.24.2)\n",
            "Requirement already satisfied: numpy in /usr/local/lib/python3.11/dist-packages (from face_recognition) (2.0.2)\n",
            "Requirement already satisfied: Pillow in /usr/local/lib/python3.11/dist-packages (from face_recognition) (11.1.0)\n",
            "Downloading face_recognition-1.3.0-py2.py3-none-any.whl (15 kB)\n",
            "Building wheels for collected packages: face-recognition-models\n",
            "  Building wheel for face-recognition-models (setup.py) ... \u001b[?25l\u001b[?25hdone\n",
            "  Created wheel for face-recognition-models: filename=face_recognition_models-0.3.0-py2.py3-none-any.whl size=100566162 sha256=ff32f70bf37e22def90bca81ab0cd9cbf66031830da8a112b2e7bc5a3a8f107c\n",
            "  Stored in directory: /root/.cache/pip/wheels/04/52/ec/9355da79c29f160b038a20c784db2803c2f9fa2c8a462c176a\n",
            "Successfully built face-recognition-models\n",
            "Installing collected packages: face-recognition-models, face_recognition\n",
            "Successfully installed face-recognition-models-0.3.0 face_recognition-1.3.0\n"
          ]
        }
      ],
      "source": [
        "pip install face_recognition opencv-python-headless"
      ]
    },
    {
      "cell_type": "code",
      "source": [
        "import cv2\n",
        "import numpy as np\n",
        "import os\n",
        "from flask import Flask, request, jsonify\n",
        "from google.colab.patches import cv2_imshow  # Only needed for Google Colab\n",
        "\n",
        "app = Flask(__name__)\n",
        "\n",
        "# Define known faces directory\n",
        "KNOWN_FACES_DIR = \"known_faces\"\n",
        "known_face_encodings = []\n",
        "known_face_names = []\n",
        "\n",
        "# Load known faces if the folder exists\n",
        "if os.path.exists(KNOWN_FACES_DIR):\n",
        "    for filename in os.listdir(KNOWN_FACES_DIR):\n",
        "        image_path = os.path.join(KNOWN_FACES_DIR, filename)\n",
        "        image = cv2.imread(image_path)  # Load image using OpenCV\n",
        "        if image is None:\n",
        "            continue  # Skip invalid images\n",
        "\n",
        "        gray_image = cv2.cvtColor(image, cv2.COLOR_BGR2GRAY)  # Convert to grayscale\n",
        "        known_face_encodings.append(gray_image)\n",
        "        known_face_names.append(os.path.splitext(filename)[0])\n",
        "\n",
        "@app.route(\"/detect_faces\", methods=[\"POST\"])\n",
        "def detect_faces():\n",
        "    if \"image\" not in request.files:\n",
        "        return jsonify({\"error\": \"No image provided\"}), 400\n",
        "\n",
        "    file = request.files[\"image\"]\n",
        "    file_bytes = np.frombuffer(file.read(), dtype=np.uint8)\n",
        "    frame = cv2.imdecode(file_bytes, cv2.IMREAD_COLOR)\n",
        "\n",
        "    if frame is None:\n",
        "        return jsonify({\"error\": \"Invalid image format\"}), 400\n",
        "\n",
        "    # Convert image to grayscale for simple face detection\n",
        "    gray_frame = cv2.cvtColor(frame, cv2.COLOR_BGR2GRAY)\n",
        "\n",
        "    # Dummy face detection (returns entire image as face)\n",
        "    detected_faces = [{\"name\": \"Unknown\", \"bounding_box\": [0, 0, frame.shape[1], frame.shape[0]]}]\n",
        "\n",
        "    return jsonify({\"faces\": detected_faces})\n",
        "\n",
        "if __name__ == \"__main__\":\n",
        "    from google.colab import output\n",
        "    output.serve_kernel_port_as_window(5000)  # Opens Flask app in a browser window inside Colab\n"
      ],
      "metadata": {
        "colab": {
          "base_uri": "https://localhost:8080/",
          "height": 71
        },
        "id": "ZzbG-FfFZcYz",
        "outputId": "1a595002-01ea-4d44-a10e-f16190c94548"
      },
      "execution_count": 8,
      "outputs": [
        {
          "output_type": "stream",
          "name": "stdout",
          "text": [
            "\u001b[31mWarning: This function may stop working due to changes in browser security.\n",
            "Try `serve_kernel_port_as_iframe` instead. \u001b[0m\n"
          ]
        },
        {
          "output_type": "display_data",
          "data": {
            "text/plain": [
              "<IPython.core.display.Javascript object>"
            ],
            "application/javascript": [
              "(async (port, path, text, element) => {\n",
              "    if (!google.colab.kernel.accessAllowed) {\n",
              "      return;\n",
              "    }\n",
              "    element.appendChild(document.createTextNode(''));\n",
              "    const url = await google.colab.kernel.proxyPort(port);\n",
              "    const anchor = document.createElement('a');\n",
              "    anchor.href = new URL(path, url).toString();\n",
              "    anchor.target = '_blank';\n",
              "    anchor.setAttribute('data-href', url + path);\n",
              "    anchor.textContent = text;\n",
              "    element.appendChild(anchor);\n",
              "  })(5000, \"/\", \"https://localhost:5000/\", window.element)"
            ]
          },
          "metadata": {}
        }
      ]
    }
  ]
}